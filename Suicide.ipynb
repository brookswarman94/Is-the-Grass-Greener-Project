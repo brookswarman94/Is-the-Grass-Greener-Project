{
 "cells": [
  {
   "cell_type": "code",
   "execution_count": 1,
   "metadata": {},
   "outputs": [],
   "source": [
    "import os\n",
    "import csv\n",
    "import pandas\n",
    "import matplotlib.pyplot as plt\n",
    "import numpy as np\n",
    "import pandas as pd"
   ]
  },
  {
   "cell_type": "code",
   "execution_count": 8,
   "metadata": {},
   "outputs": [
    {
     "data": {
      "text/html": [
       "<div>\n",
       "<style scoped>\n",
       "    .dataframe tbody tr th:only-of-type {\n",
       "        vertical-align: middle;\n",
       "    }\n",
       "\n",
       "    .dataframe tbody tr th {\n",
       "        vertical-align: top;\n",
       "    }\n",
       "\n",
       "    .dataframe thead th {\n",
       "        text-align: right;\n",
       "    }\n",
       "</style>\n",
       "<table border=\"1\" class=\"dataframe\">\n",
       "  <thead>\n",
       "    <tr style=\"text-align: right;\">\n",
       "      <th></th>\n",
       "      <th>Suicide</th>\n",
       "      <th>Chicago</th>\n",
       "      <th>Phoenix</th>\n",
       "      <th>Seattle</th>\n",
       "      <th>U.S Total</th>\n",
       "    </tr>\n",
       "  </thead>\n",
       "  <tbody>\n",
       "    <tr>\n",
       "      <th>0</th>\n",
       "      <td>2010</td>\n",
       "      <td>6.3</td>\n",
       "      <td>NaN</td>\n",
       "      <td>11.1</td>\n",
       "      <td>NaN</td>\n",
       "    </tr>\n",
       "    <tr>\n",
       "      <th>1</th>\n",
       "      <td>2011</td>\n",
       "      <td>5.8</td>\n",
       "      <td>NaN</td>\n",
       "      <td>11.7</td>\n",
       "      <td>12.3</td>\n",
       "    </tr>\n",
       "    <tr>\n",
       "      <th>2</th>\n",
       "      <td>2012</td>\n",
       "      <td>7.2</td>\n",
       "      <td>13.9</td>\n",
       "      <td>10.8</td>\n",
       "      <td>12.6</td>\n",
       "    </tr>\n",
       "    <tr>\n",
       "      <th>3</th>\n",
       "      <td>2013</td>\n",
       "      <td>7.3</td>\n",
       "      <td>11.9</td>\n",
       "      <td>14.6</td>\n",
       "      <td>12.6</td>\n",
       "    </tr>\n",
       "    <tr>\n",
       "      <th>4</th>\n",
       "      <td>2014</td>\n",
       "      <td>NaN</td>\n",
       "      <td>13.4</td>\n",
       "      <td>10.6</td>\n",
       "      <td>13.0</td>\n",
       "    </tr>\n",
       "  </tbody>\n",
       "</table>\n",
       "</div>"
      ],
      "text/plain": [
       "   Suicide  Chicago  Phoenix  Seattle  U.S Total\n",
       "0     2010      6.3      NaN     11.1        NaN\n",
       "1     2011      5.8      NaN     11.7       12.3\n",
       "2     2012      7.2     13.9     10.8       12.6\n",
       "3     2013      7.3     11.9     14.6       12.6\n",
       "4     2014      NaN     13.4     10.6       13.0"
      ]
     },
     "execution_count": 8,
     "metadata": {},
     "output_type": "execute_result"
    }
   ],
   "source": [
    "suicide_df = pd.read_csv(\"suicideforcity.csv\")\n",
    "suicide_df.head()\n"
   ]
  },
  {
   "cell_type": "code",
   "execution_count": 10,
   "metadata": {},
   "outputs": [
    {
     "data": {
      "image/png": "[encoded data removed]",
      "text/plain": [
       "<Figure size 432x288 with 1 Axes>"
      ]
     },
     "metadata": {},
     "output_type": "display_data"
    },
    {
     "data": {
      "text/plain": [
       "<Figure size 432x288 with 0 Axes>"
      ]
     },
     "metadata": {},
     "output_type": "display_data"
    }
   ],
   "source": [
    "x_axis = [2010,2011,2012,2013,2014,2015]\n",
    "\n",
    "Chicagograph, = plt.plot(x_axis, suicide_df[\"Chicago\"], marker=\"+\",color=\"blue\", linewidth=1, label=\"Chicago\")\n",
    "Phoenixgraph, = plt.plot(x_axis, suicide_df[\"Phoenix\"], marker=\"s\", color=\"Red\", linewidth=1, label= \"Phoenix\")\n",
    "Seattlegraph, = plt.plot(x_axis, suicide_df[\"Seattle\"], marker=\"+\",color=\"yellow\", linewidth=1, label = \"Seattle\")\n",
    "USGraph, = plt.plot(x_axis, suicide_df[\"U.S Total\"], marker=\"s\", color=\"orange\", linewidth=1, label= \"US\")\n",
    "\n",
    "plt.legend(handles=[Chicagograph, Phoenixgraph, Seattlegraph, USGraph], loc =\"best\")\n",
    "plt.xlabel(\"Years\")\n",
    "plt.ylabel(\"Deaths\")\n",
    "\n",
    "plt.show()\n",
    "plt.savefig(\"suicide.png\")\n",
    "           "
   ]
  },
  {
   "cell_type": "code",
   "execution_count": null,
   "metadata": {},
   "outputs": [],
   "source": []
  }
 ],
 "metadata": {
  "kernelspec": {
   "display_name": "Python 3",
   "language": "python",
   "name": "python3"
  },
  "language_info": {
   "codemirror_mode": {
    "name": "ipython",
    "version": 3
   },
   "file_extension": ".py",
   "mimetype": "text/x-python",
   "name": "python",
   "nbconvert_exporter": "python",
   "pygments_lexer": "ipython3",
   "version": "3.6.5"
  }
 },
 "nbformat": 4,
 "nbformat_minor": 2
}
