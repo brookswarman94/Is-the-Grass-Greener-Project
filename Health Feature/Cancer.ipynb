{
 "cells": [
  {
   "cell_type": "code",
   "execution_count": 45,
   "metadata": {},
   "outputs": [],
   "source": [
    "import os\n",
    "import csv\n",
    "import pandas\n",
    "import matplotlib.pyplot as plt\n",
    "import numpy as np\n",
    "import pandas as pd"
   ]
  },
  {
   "cell_type": "code",
   "execution_count": 85,
   "metadata": {},
   "outputs": [
    {
     "data": {
      "text/html": [
       "<div>\n",
       "<style scoped>\n",
       "    .dataframe tbody tr th:only-of-type {\n",
       "        vertical-align: middle;\n",
       "    }\n",
       "\n",
       "    .dataframe tbody tr th {\n",
       "        vertical-align: top;\n",
       "    }\n",
       "\n",
       "    .dataframe thead th {\n",
       "        text-align: right;\n",
       "    }\n",
       "</style>\n",
       "<table border=\"1\" class=\"dataframe\">\n",
       "  <thead>\n",
       "    <tr style=\"text-align: right;\">\n",
       "      <th></th>\n",
       "      <th>Cancer</th>\n",
       "      <th>Chicago</th>\n",
       "      <th>Phoenix</th>\n",
       "      <th>Seattle</th>\n",
       "      <th>U.S Total</th>\n",
       "    </tr>\n",
       "  </thead>\n",
       "  <tbody>\n",
       "    <tr>\n",
       "      <th>0</th>\n",
       "      <td>2010</td>\n",
       "      <td>189.4</td>\n",
       "      <td>98.0</td>\n",
       "      <td>156.7</td>\n",
       "      <td>172.8</td>\n",
       "    </tr>\n",
       "    <tr>\n",
       "      <th>1</th>\n",
       "      <td>2011</td>\n",
       "      <td>182.5</td>\n",
       "      <td>100.0</td>\n",
       "      <td>163.6</td>\n",
       "      <td>169.0</td>\n",
       "    </tr>\n",
       "    <tr>\n",
       "      <th>2</th>\n",
       "      <td>2012</td>\n",
       "      <td>186.1</td>\n",
       "      <td>109.1</td>\n",
       "      <td>152.9</td>\n",
       "      <td>166.5</td>\n",
       "    </tr>\n",
       "    <tr>\n",
       "      <th>3</th>\n",
       "      <td>2013</td>\n",
       "      <td>187.2</td>\n",
       "      <td>108.4</td>\n",
       "      <td>143.9</td>\n",
       "      <td>163.2</td>\n",
       "    </tr>\n",
       "    <tr>\n",
       "      <th>4</th>\n",
       "      <td>2014</td>\n",
       "      <td>NaN</td>\n",
       "      <td>NaN</td>\n",
       "      <td>NaN</td>\n",
       "      <td>NaN</td>\n",
       "    </tr>\n",
       "  </tbody>\n",
       "</table>\n",
       "</div>"
      ],
      "text/plain": [
       "   Cancer  Chicago  Phoenix  Seattle  U.S Total\n",
       "0    2010    189.4     98.0    156.7      172.8\n",
       "1    2011    182.5    100.0    163.6      169.0\n",
       "2    2012    186.1    109.1    152.9      166.5\n",
       "3    2013    187.2    108.4    143.9      163.2\n",
       "4    2014      NaN      NaN      NaN        NaN"
      ]
     },
     "execution_count": 85,
     "metadata": {},
     "output_type": "execute_result"
    }
   ],
   "source": [
    "cancer_df = pd.read_csv(\"cancerforcitychi.csv\")\n",
    "    \n",
    "cancer_df.head()\n",
    "           "
   ]
  },
  {
   "cell_type": "code",
   "execution_count": 86,
   "metadata": {},
   "outputs": [],
   "source": [
    "            #Chicago_2010 = int(row[],)\n",
    "            #Chicago_2011 =\n",
    "            #Chicago_2012 =\n",
    "            #Chicago_2013 =\n",
    "            #Phoenix_2010 =\n",
    "            #Phoenix_2011 =\n",
    "            #Phoenix_2012\n",
    "            #Phoenix_2013\n",
    "            #Seattle_2010\n",
    "            #Seattle_2011\n",
    "            #Seattle_2012\n",
    "            #Seattle_2013\n",
    "            #US_2010\n",
    "            #US_2011\n",
    "            #US_2012\n",
    "            #US_2013"
   ]
  },
  {
   "cell_type": "code",
   "execution_count": 107,
   "metadata": {},
   "outputs": [],
   "source": [
    "\n",
    "x_axis = [2010,2011,2012,2013,2014]\n"
   ]
  },
  {
   "cell_type": "code",
   "execution_count": null,
   "metadata": {},
   "outputs": [],
   "source": []
  },
  {
   "cell_type": "code",
   "execution_count": 111,
   "metadata": {},
   "outputs": [
    {
     "data": {
      "image/png": "[encoded data removed]",
      "text/plain": [
       "<Figure size 432x288 with 1 Axes>"
      ]
     },
     "metadata": {},
     "output_type": "display_data"
    },
    {
     "data": {
      "text/plain": [
       "<Figure size 432x288 with 0 Axes>"
      ]
     },
     "metadata": {},
     "output_type": "display_data"
    }
   ],
   "source": [
    "\n",
    "\n",
    "Chicagograph, = plt.plot(x_axis, cancer_df[\"Chicago\"], marker=\"+\",color=\"blue\", linewidth=1, label=\"Chicago\")\n",
    "Phoenixgraph, = plt.plot(x_axis, cancer_df[\"Phoenix\"], marker=\"s\", color=\"Red\", linewidth=1, label=\"Phoenix\")\n",
    "Seattlegraph, = plt.plot(x_axis, cancer_df[\"Seattle\"], marker=\"+\",color=\"yellow\", linewidth=1, label=\"Seattle\")\n",
    "USGraph, = plt.plot(x_axis, cancer_df[\"U.S Total\"], marker=\"s\", color=\"orange\", linewidth=1, label=\"US\")\n",
    "\n",
    "\n",
    "plt.legend(handles=[Chicagograph, Phoenixgraph, Seattlegraph, USGraph], loc =\"best\")\n",
    "plt.xlabel(\"Years\")\n",
    "plt.ylabel(\"Deaths\")\n",
    "\n",
    "plt.show()\n",
    "plt.savefig(\"Cancer.png\")"
   ]
  },
  {
   "cell_type": "code",
   "execution_count": null,
   "metadata": {},
   "outputs": [],
   "source": []
  },
  {
   "cell_type": "code",
   "execution_count": null,
   "metadata": {},
   "outputs": [],
   "source": []
  }
 ],
 "metadata": {
  "kernelspec": {
   "display_name": "Python 3",
   "language": "python",
   "name": "python3"
  },
  "language_info": {
   "codemirror_mode": {
    "name": "ipython",
    "version": 3
   },
   "file_extension": ".py",
   "mimetype": "text/x-python",
   "name": "python",
   "nbconvert_exporter": "python",
   "pygments_lexer": "ipython3",
   "version": "3.6.5"
  }
 },
 "nbformat": 4,
 "nbformat_minor": 2
}
