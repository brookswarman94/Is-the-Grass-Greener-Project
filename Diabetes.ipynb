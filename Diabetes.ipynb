{
 "cells": [
  {
   "cell_type": "code",
   "execution_count": 1,
   "metadata": {},
   "outputs": [],
   "source": [
    "import os\n",
    "import csv\n",
    "import pandas\n",
    "import matplotlib.pyplot as plt\n",
    "import numpy as np\n",
    "import pandas as pd"
   ]
  },
  {
   "cell_type": "code",
   "execution_count": 16,
   "metadata": {},
   "outputs": [
    {
     "data": {
      "text/html": [
       "<div>\n",
       "<style scoped>\n",
       "    .dataframe tbody tr th:only-of-type {\n",
       "        vertical-align: middle;\n",
       "    }\n",
       "\n",
       "    .dataframe tbody tr th {\n",
       "        vertical-align: top;\n",
       "    }\n",
       "\n",
       "    .dataframe thead th {\n",
       "        text-align: right;\n",
       "    }\n",
       "</style>\n",
       "<table border=\"1\" class=\"dataframe\">\n",
       "  <thead>\n",
       "    <tr style=\"text-align: right;\">\n",
       "      <th></th>\n",
       "      <th>Diabetes</th>\n",
       "      <th>Chicago</th>\n",
       "      <th>Phoenix</th>\n",
       "      <th>Seattle</th>\n",
       "      <th>US</th>\n",
       "    </tr>\n",
       "  </thead>\n",
       "  <tbody>\n",
       "    <tr>\n",
       "      <th>0</th>\n",
       "      <td>2010</td>\n",
       "      <td>25.2</td>\n",
       "      <td>16.3</td>\n",
       "      <td>16.4</td>\n",
       "      <td>20.8</td>\n",
       "    </tr>\n",
       "    <tr>\n",
       "      <th>1</th>\n",
       "      <td>2011</td>\n",
       "      <td>24.0</td>\n",
       "      <td>20.9</td>\n",
       "      <td>21.8</td>\n",
       "      <td>21.6</td>\n",
       "    </tr>\n",
       "    <tr>\n",
       "      <th>2</th>\n",
       "      <td>2012</td>\n",
       "      <td>25.6</td>\n",
       "      <td>22.1</td>\n",
       "      <td>20.8</td>\n",
       "      <td>21.2</td>\n",
       "    </tr>\n",
       "    <tr>\n",
       "      <th>3</th>\n",
       "      <td>2013</td>\n",
       "      <td>21.5</td>\n",
       "      <td>20.2</td>\n",
       "      <td>18.6</td>\n",
       "      <td>21.2</td>\n",
       "    </tr>\n",
       "    <tr>\n",
       "      <th>4</th>\n",
       "      <td>2014</td>\n",
       "      <td>NaN</td>\n",
       "      <td>NaN</td>\n",
       "      <td>19.0</td>\n",
       "      <td>20.9</td>\n",
       "    </tr>\n",
       "  </tbody>\n",
       "</table>\n",
       "</div>"
      ],
      "text/plain": [
       "   Diabetes  Chicago  Phoenix  Seattle    US\n",
       "0      2010     25.2     16.3     16.4  20.8\n",
       "1      2011     24.0     20.9     21.8  21.6\n",
       "2      2012     25.6     22.1     20.8  21.2\n",
       "3      2013     21.5     20.2     18.6  21.2\n",
       "4      2014      NaN      NaN     19.0  20.9"
      ]
     },
     "execution_count": 16,
     "metadata": {},
     "output_type": "execute_result"
    }
   ],
   "source": [
    "diabetes_df = pd.read_csv(\"Diabetesforcity.csv\")\n",
    "    \n",
    "diabetes_df.head()\n",
    "           "
   ]
  },
  {
   "cell_type": "code",
   "execution_count": 15,
   "metadata": {},
   "outputs": [
    {
     "data": {
      "image/png": "[encoded data removed]",
      "text/plain": [
       "<Figure size 432x288 with 1 Axes>"
      ]
     },
     "metadata": {},
     "output_type": "display_data"
    },
    {
     "data": {
      "text/plain": [
       "<Figure size 432x288 with 0 Axes>"
      ]
     },
     "metadata": {},
     "output_type": "display_data"
    }
   ],
   "source": [
    "x_axis = [2010,2011,2012,2013,2014,2015]\n",
    "Chicagograph, = plt.plot(x_axis, diabetes_df[\"Chicago\"], marker=\"+\",color=\"blue\", linewidth=1, label=\"Chicago\")\n",
    "Phoenixgraph, = plt.plot(x_axis, diabetes_df[\"Phoenix\"], marker=\"s\", color=\"Red\", linewidth=1, label= \"Phoenix\")\n",
    "Seattlegraph, = plt.plot(x_axis, diabetes_df[\"Seattle\"], marker=\"+\",color=\"yellow\", linewidth=1, label = \"Seattle\")\n",
    "USGraph, = plt.plot(x_axis, diabetes_df[\"US\"], marker=\"s\", color=\"orange\", linewidth=1, label= \"US\")\n",
    "\n",
    "plt.legend(handles=[Chicagograph, Phoenixgraph, Seattlegraph, USGraph], loc =\"best\")\n",
    "plt.xlabel(\"Years\")\n",
    "plt.ylabel(\"Deaths\")\n",
    "\n",
    "plt.show()\n",
    "plt.savefig(\"Diabetes.png\")"
   ]
  },
  {
   "cell_type": "code",
   "execution_count": null,
   "metadata": {},
   "outputs": [],
   "source": []
  }
 ],
 "metadata": {
  "kernelspec": {
   "display_name": "Python 3",
   "language": "python",
   "name": "python3"
  },
  "language_info": {
   "codemirror_mode": {
    "name": "ipython",
    "version": 3
   },
   "file_extension": ".py",
   "mimetype": "text/x-python",
   "name": "python",
   "nbconvert_exporter": "python",
   "pygments_lexer": "ipython3",
   "version": "3.6.5"
  }
 },
 "nbformat": 4,
 "nbformat_minor": 2
}
